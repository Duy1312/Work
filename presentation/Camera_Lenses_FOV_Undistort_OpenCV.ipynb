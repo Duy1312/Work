{
 "cells": [
  {
   "cell_type": "markdown",
   "id": "3758cee1",
   "metadata": {},
   "source": [
    "# Camera công nghiệp, ống kính và tính toán FOV\n"
   ]
  },
  {
   "cell_type": "markdown",
   "id": "d0563d31",
   "metadata": {},
   "source": [
    "\n",
    "## Giới thiệu\n",
    "Trong bài notebook này, chúng ta sẽ tìm hiểu về:\n",
    "- **Camera công nghiệp và ống kính công nghiệp**\n",
    "- **Công thức tính FOV (Field of View) của camera**\n",
    "- **Cách hiệu chỉnh ảnh bị biến dạng (undistort) với OpenCV sử dụng mẫu bàn cờ (chessboard)**\n",
    "\n",
    "Chúng ta sẽ thực hiện các ví dụ cụ thể để làm rõ các khái niệm và kỹ thuật trên.\n"
   ]
  },
  {
   "cell_type": "markdown",
   "id": "084226fe",
   "metadata": {},
   "source": [
    "\n",
    "## Công thức tính FOV của camera\n",
    "FOV (Field of View) là góc nhìn của camera, có thể tính toán dựa vào tiêu cự (focal length) và kích thước cảm biến của camera.\n",
    "\n",
    "### Công thức tính FOV:\n",
    "1. **FOV_x (theo chiều ngang):**\n",
    "   \\[\n",
    "   FOV_x = 2 \times \u0007rctan\\left(\f\n",
    "rac{w}{2f}\n",
    "ight)\n",
    "   \\]\n",
    "   Trong đó:\n",
    "   - \\(w\\) là chiều rộng cảm biến của camera.\n",
    "   - \\(f\\) là tiêu cự của camera.\n",
    "\n",
    "2. **FOV_y (theo chiều dọc):**\n",
    "   \\[\n",
    "   FOV_y = 2 \times \u0007rctan\\left(\f\n",
    "rac{h}{2f}\n",
    "ight)\n",
    "   \\]\n",
    "   Trong đó:\n",
    "   - \\(h\\) là chiều cao cảm biến của camera.\n",
    "   - \\(f\\) là tiêu cự của camera.\n",
    "\n",
    "Ví dụ: Với cảm biến có chiều rộng \\(w = 36 \\, mm\\), chiều cao \\(h = 24 \\, mm\\) và tiêu cự \\(f = 50 \\, mm\\), ta có thể tính FOV_x và FOV_y.\n"
   ]
  },
  {
   "cell_type": "code",
   "execution_count": 3,
   "id": "e9d5eda2",
   "metadata": {},
   "outputs": [
    {
     "ename": "error",
     "evalue": "OpenCV(4.10.0) D:\\a\\opencv-python\\opencv-python\\opencv\\modules\\imgproc\\src\\color.cpp:196: error: (-215:Assertion failed) !_src.empty() in function 'cv::cvtColor'\n",
     "output_type": "error",
     "traceback": [
      "\u001b[1;31m---------------------------------------------------------------------------\u001b[0m",
      "\u001b[1;31merror\u001b[0m                                     Traceback (most recent call last)",
      "Cell \u001b[1;32mIn[3], line 33\u001b[0m\n\u001b[0;32m     30\u001b[0m images \u001b[38;5;241m=\u001b[39m [cv2\u001b[38;5;241m.\u001b[39mimread(\u001b[38;5;124m'\u001b[39m\u001b[38;5;124mimage1.jpg\u001b[39m\u001b[38;5;124m'\u001b[39m), cv2\u001b[38;5;241m.\u001b[39mimread(\u001b[38;5;124m'\u001b[39m\u001b[38;5;124mimage2.jpg\u001b[39m\u001b[38;5;124m'\u001b[39m)]\n\u001b[0;32m     32\u001b[0m \u001b[38;5;28;01mfor\u001b[39;00m img \u001b[38;5;129;01min\u001b[39;00m images:\n\u001b[1;32m---> 33\u001b[0m     gray \u001b[38;5;241m=\u001b[39m \u001b[43mcv2\u001b[49m\u001b[38;5;241;43m.\u001b[39;49m\u001b[43mcvtColor\u001b[49m\u001b[43m(\u001b[49m\u001b[43mimg\u001b[49m\u001b[43m,\u001b[49m\u001b[43m \u001b[49m\u001b[43mcv2\u001b[49m\u001b[38;5;241;43m.\u001b[39;49m\u001b[43mCOLOR_BGR2GRAY\u001b[49m\u001b[43m)\u001b[49m\n\u001b[0;32m     34\u001b[0m     ret, corners \u001b[38;5;241m=\u001b[39m cv2\u001b[38;5;241m.\u001b[39mfindChessboardCorners(gray, chessboard_size, \u001b[38;5;28;01mNone\u001b[39;00m)\n\u001b[0;32m     36\u001b[0m     \u001b[38;5;28;01mif\u001b[39;00m ret:\n",
      "\u001b[1;31merror\u001b[0m: OpenCV(4.10.0) D:\\a\\opencv-python\\opencv-python\\opencv\\modules\\imgproc\\src\\color.cpp:196: error: (-215:Assertion failed) !_src.empty() in function 'cv::cvtColor'\n"
     ]
    }
   ],
   "source": [
    "\n",
    "## Sử dụng OpenCV để undistort ảnh với chessboard\n",
    "\n",
    "# Để loại bỏ các biến dạng trong hình ảnh, chúng ta sẽ sử dụng OpenCV với mẫu bàn cờ (chessboard) để tính toán ma trận hiệu chỉnh (camera calibration matrix). Dưới đây là ví dụ về cách làm điều đó.\n",
    "\n",
    "# ### Các bước thực hiện:\n",
    "# 1. **Thu thập ảnh bàn cờ (chessboard)** với nhiều góc nhìn khác nhau.\n",
    "# 2. **Tính toán ma trận hiệu chỉnh camera**.\n",
    "# 3. **Sử dụng ma trận hiệu chỉnh để loại bỏ biến dạng** (undistort).\n",
    "\n",
    "# Dưới đây là mã ví dụ sử dụng OpenCV:\n",
    "\n",
    "# ```python\n",
    "import cv2\n",
    "import numpy as np\n",
    "\n",
    "# Kích thước bàn cờ (số ô vuông trên chiều ngang và dọc)\n",
    "chessboard_size = (9, 6)\n",
    "criteria = (cv2.TERM_CRITERIA_EPS + cv2.TERM_CRITERIA_MAX_ITER, 30, 0.001)\n",
    "\n",
    "# Dữ liệu về các điểm 3D (toạ độ thực của các ô vuông bàn cờ)\n",
    "obj_points = []\n",
    "# Dữ liệu về các điểm 2D (toạ độ các điểm tìm được trong ảnh)\n",
    "img_points = []\n",
    "\n",
    "# Tạo các điểm 3D bàn cờ\n",
    "obj_p = np.zeros((np.prod(chessboard_size), 3), dtype=np.float32)\n",
    "obj_p[:, :2] = np.indices(chessboard_size).T.reshape(-1, 2)\n",
    "\n",
    "# Đọc các ảnh của bàn cờ\n",
    "images = [cv2.imread('image1.jpg'), cv2.imread('image2.jpg')]\n",
    "\n",
    "for img in images:\n",
    "    gray = cv2.cvtColor(img, cv2.COLOR_BGR2GRAY)\n",
    "    ret, corners = cv2.findChessboardCorners(gray, chessboard_size, None)\n",
    "\n",
    "    if ret:\n",
    "        obj_points.append(obj_p)\n",
    "        img_points.append(corners)\n",
    "\n",
    "        # Vẽ các điểm góc lên ảnh\n",
    "        cv2.drawChessboardCorners(img, chessboard_size, corners, ret)\n",
    "\n",
    "# Tính toán ma trận camera và độ biến dạng (distortion coefficients)\n",
    "ret, mtx, dist, rvecs, tvecs = cv2.calibrateCamera(obj_points, img_points, gray.shape[::-1], None, None)\n",
    "\n",
    "# Lưu trữ kết quả\n",
    "np.save('camera_matrix.npy', mtx)\n",
    "np.save('distortion_coefficients.npy', dist)\n",
    "\n",
    "# Undistort một ảnh\n",
    "img = cv2.imread('distorted_image.jpg')\n",
    "undistorted_img = cv2.undistort(img, mtx, dist)\n",
    "\n",
    "# Hiển thị ảnh đã chỉnh sửa\n",
    "cv2.imshow('Undistorted Image', undistorted_img)\n",
    "cv2.waitKey(0)\n",
    "cv2.destroyAllWindows()\n",
    "# ```\n",
    "\n",
    "# ### Giải thích:\n",
    "# - **findChessboardCorners**: Tìm các góc của bàn cờ trong ảnh.\n",
    "# - **calibrateCamera**: Tính toán ma trận hiệu chỉnh camera và các hệ số biến dạng.\n",
    "# - **undistort**: Loại bỏ các biến dạng trong ảnh dựa trên ma trận hiệu chỉnh đã tính toán.\n"
   ]
  }
 ],
 "metadata": {
  "kernelspec": {
   "display_name": "Python 3",
   "language": "python",
   "name": "python3"
  },
  "language_info": {
   "codemirror_mode": {
    "name": "ipython",
    "version": 3
   },
   "file_extension": ".py",
   "mimetype": "text/x-python",
   "name": "python",
   "nbconvert_exporter": "python",
   "pygments_lexer": "ipython3",
   "version": "3.9.7"
  }
 },
 "nbformat": 4,
 "nbformat_minor": 5
}
