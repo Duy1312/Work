{
 "cells": [
  {
   "cell_type": "markdown",
   "id": "0791b6a6",
   "metadata": {},
   "source": [
    "# Camera công nghiệp và ống kính\n"
   ]
  },
  {
   "cell_type": "markdown",
   "id": "34e9e5dd",
   "metadata": {},
   "source": [
    "\n",
    "## Mục lục\n",
    "1. [Giới thiệu về Camera công nghiệp](#Giới-thiệu-về-Camera-công-nghiệp)\n",
    "2. [Các loại camera công nghiệp](#Các-loại-camera-công-nghiệp)\n",
    "3. [Ống kính công nghiệp](#Ống-kính-công-nghiệp)\n",
    "4. [Ứng dụng của camera công nghiệp](#Ứng-dụng-của-camera-công-nghiệp)\n",
    "5. [Camera của Hikrobot](#Camera-của-Hikrobot)\n"
   ]
  },
  {
   "cell_type": "markdown",
   "id": "bd9e0b31",
   "metadata": {},
   "source": [
    "\n",
    "## Giới thiệu về Camera công nghiệp\n",
    "Camera công nghiệp là các loại camera được thiết kế đặc biệt để sử dụng trong môi trường sản xuất, kiểm tra chất lượng sản phẩm, tự động hóa, và giám sát. Camera công nghiệp thường có khả năng hoạt động tốt trong các điều kiện môi trường khắc nghiệt như nhiệt độ cao, độ ẩm, bụi bẩn, và rung động.\n"
   ]
  },
  {
   "cell_type": "markdown",
   "id": "d57d8be3",
   "metadata": {},
   "source": [
    "\n",
    "## Các loại camera công nghiệp\n",
    "1. **Camera CCD (Charge-Coupled Device):** Được sử dụng rộng rãi trong các ứng dụng cần độ chính xác cao, như kiểm tra chất lượng sản phẩm.\n",
    "2. **Camera CMOS (Complementary Metal-Oxide-Semiconductor):** Tiêu thụ ít năng lượng hơn, thích hợp cho các ứng dụng yêu cầu tốc độ cao.\n",
    "3. **Camera dòng (Line Scan Cameras):** Dùng trong các ứng dụng quét liên tục, thích hợp cho các dây chuyền sản xuất.\n",
    "4. **Camera 3D:** Được dùng để tạo mô hình 3D hoặc kiểm tra các đối tượng có hình dạng phức tạp.\n"
   ]
  },
  {
   "cell_type": "markdown",
   "id": "dad3d8bc",
   "metadata": {},
   "source": [
    "\n",
    "## Ống kính công nghiệp\n",
    "Ống kính công nghiệp giúp điều chỉnh góc nhìn và lấy nét hình ảnh cho camera công nghiệp. Chúng thường được thiết kế để đảm bảo độ sắc nét và chính xác trong các ứng dụng công nghiệp.\n",
    "1. **Ống kính tiêu chuẩn:** Dùng cho các ứng dụng không yêu cầu quá khắt khe.\n",
    "2. **Ống kính góc rộng:** Dùng cho các ứng dụng cần bao quát một khu vực rộng hơn.\n",
    "3. **Ống kính telephoto:** Dùng cho các ứng dụng cần phóng đại các đối tượng ở xa.\n",
    "4. **Ống kính có khả năng lấy nét tự động:** Giúp tự động điều chỉnh tiêu cự.\n"
   ]
  },
  {
   "cell_type": "markdown",
   "id": "c6df3e0c",
   "metadata": {},
   "source": [
    "\n",
    "## Ứng dụng của camera công nghiệp\n",
    "Camera công nghiệp và ống kính công nghiệp được sử dụng trong nhiều ứng dụng như:\n",
    "- Kiểm tra chất lượng sản phẩm trên dây chuyền sản xuất.\n",
    "- Hệ thống nhận dạng ký tự quang học (OCR).\n",
    "- Giám sát và an ninh trong môi trường công nghiệp.\n",
    "- Tự động hóa và robot hóa trong sản xuất.\n"
   ]
  },
  {
   "cell_type": "markdown",
   "id": "f78c7582",
   "metadata": {},
   "source": [
    "\n",
    "## Camera của Hikrobot\n",
    "Hikrobot là thương hiệu con của Hikvision chuyên cung cấp các giải pháp camera công nghiệp và tự động hóa. Các camera của Hikrobot được thiết kế đặc biệt để phục vụ các ứng dụng trong công nghiệp, như kiểm tra chất lượng sản phẩm, nhận dạng hình ảnh, và tự động hóa.\n",
    "### Các loại camera Hikrobot:\n",
    "1. **Camera công nghiệp (Industrial Cameras):** Camera với cảm biến CCD hoặc CMOS, được thiết kế để làm việc trong các môi trường khắc nghiệt.\n",
    "2. **Camera nhận dạng hình ảnh (Machine Vision Cameras):** Dùng để phân tích hình ảnh, nhận dạng đối tượng, kiểm tra sản phẩm.\n",
    "3. **Camera 3D:** Dùng để tạo mô hình 3D hoặc kiểm tra các sản phẩm có hình dạng phức tạp.\n"
   ]
  }
 ],
 "metadata": {},
 "nbformat": 4,
 "nbformat_minor": 5
}
